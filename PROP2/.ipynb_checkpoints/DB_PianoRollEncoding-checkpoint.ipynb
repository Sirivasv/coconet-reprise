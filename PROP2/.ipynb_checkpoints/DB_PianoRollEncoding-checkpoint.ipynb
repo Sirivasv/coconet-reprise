{
 "cells": [
  {
   "cell_type": "code",
   "execution_count": 1,
   "id": "blocked-gender",
   "metadata": {},
   "outputs": [],
   "source": [
    "import os\n",
    "import numpy as np\n",
    "import json"
   ]
  },
  {
   "cell_type": "code",
   "execution_count": 3,
   "id": "commercial-tutorial",
   "metadata": {},
   "outputs": [
    {
     "name": "stdout",
     "output_type": "stream",
     "text": [
      "\u001b[31mERROR: Could not find a version that satisfies the requirement yaml\u001b[0m\r\n",
      "\u001b[31mERROR: No matching distribution found for yaml\u001b[0m\r\n"
     ]
    }
   ],
   "source": [
    "!pip install yaml"
   ]
  },
  {
   "cell_type": "code",
   "execution_count": 2,
   "id": "detailed-experience",
   "metadata": {},
   "outputs": [
    {
     "name": "stderr",
     "output_type": "stream",
     "text": [
      "/opt/anaconda3/envs/coco/lib/python3.6/site-packages/tensorflow/python/framework/dtypes.py:516: FutureWarning: Passing (type, 1) or '1type' as a synonym of type is deprecated; in a future version of numpy, it will be understood as (type, (1,)) / '(1,)type'.\n",
      "  _np_qint8 = np.dtype([(\"qint8\", np.int8, 1)])\n",
      "/opt/anaconda3/envs/coco/lib/python3.6/site-packages/tensorflow/python/framework/dtypes.py:517: FutureWarning: Passing (type, 1) or '1type' as a synonym of type is deprecated; in a future version of numpy, it will be understood as (type, (1,)) / '(1,)type'.\n",
      "  _np_quint8 = np.dtype([(\"quint8\", np.uint8, 1)])\n",
      "/opt/anaconda3/envs/coco/lib/python3.6/site-packages/tensorflow/python/framework/dtypes.py:518: FutureWarning: Passing (type, 1) or '1type' as a synonym of type is deprecated; in a future version of numpy, it will be understood as (type, (1,)) / '(1,)type'.\n",
      "  _np_qint16 = np.dtype([(\"qint16\", np.int16, 1)])\n",
      "/opt/anaconda3/envs/coco/lib/python3.6/site-packages/tensorflow/python/framework/dtypes.py:519: FutureWarning: Passing (type, 1) or '1type' as a synonym of type is deprecated; in a future version of numpy, it will be understood as (type, (1,)) / '(1,)type'.\n",
      "  _np_quint16 = np.dtype([(\"quint16\", np.uint16, 1)])\n",
      "/opt/anaconda3/envs/coco/lib/python3.6/site-packages/tensorflow/python/framework/dtypes.py:520: FutureWarning: Passing (type, 1) or '1type' as a synonym of type is deprecated; in a future version of numpy, it will be understood as (type, (1,)) / '(1,)type'.\n",
      "  _np_qint32 = np.dtype([(\"qint32\", np.int32, 1)])\n",
      "/opt/anaconda3/envs/coco/lib/python3.6/site-packages/tensorflow/python/framework/dtypes.py:525: FutureWarning: Passing (type, 1) or '1type' as a synonym of type is deprecated; in a future version of numpy, it will be understood as (type, (1,)) / '(1,)type'.\n",
      "  np_resource = np.dtype([(\"resource\", np.ubyte, 1)])\n",
      "/opt/anaconda3/envs/coco/lib/python3.6/site-packages/tensorboard/compat/tensorflow_stub/dtypes.py:541: FutureWarning: Passing (type, 1) or '1type' as a synonym of type is deprecated; in a future version of numpy, it will be understood as (type, (1,)) / '(1,)type'.\n",
      "  _np_qint8 = np.dtype([(\"qint8\", np.int8, 1)])\n",
      "/opt/anaconda3/envs/coco/lib/python3.6/site-packages/tensorboard/compat/tensorflow_stub/dtypes.py:542: FutureWarning: Passing (type, 1) or '1type' as a synonym of type is deprecated; in a future version of numpy, it will be understood as (type, (1,)) / '(1,)type'.\n",
      "  _np_quint8 = np.dtype([(\"quint8\", np.uint8, 1)])\n",
      "/opt/anaconda3/envs/coco/lib/python3.6/site-packages/tensorboard/compat/tensorflow_stub/dtypes.py:543: FutureWarning: Passing (type, 1) or '1type' as a synonym of type is deprecated; in a future version of numpy, it will be understood as (type, (1,)) / '(1,)type'.\n",
      "  _np_qint16 = np.dtype([(\"qint16\", np.int16, 1)])\n",
      "/opt/anaconda3/envs/coco/lib/python3.6/site-packages/tensorboard/compat/tensorflow_stub/dtypes.py:544: FutureWarning: Passing (type, 1) or '1type' as a synonym of type is deprecated; in a future version of numpy, it will be understood as (type, (1,)) / '(1,)type'.\n",
      "  _np_quint16 = np.dtype([(\"quint16\", np.uint16, 1)])\n",
      "/opt/anaconda3/envs/coco/lib/python3.6/site-packages/tensorboard/compat/tensorflow_stub/dtypes.py:545: FutureWarning: Passing (type, 1) or '1type' as a synonym of type is deprecated; in a future version of numpy, it will be understood as (type, (1,)) / '(1,)type'.\n",
      "  _np_qint32 = np.dtype([(\"qint32\", np.int32, 1)])\n",
      "/opt/anaconda3/envs/coco/lib/python3.6/site-packages/tensorboard/compat/tensorflow_stub/dtypes.py:550: FutureWarning: Passing (type, 1) or '1type' as a synonym of type is deprecated; in a future version of numpy, it will be understood as (type, (1,)) / '(1,)type'.\n",
      "  np_resource = np.dtype([(\"resource\", np.ubyte, 1)])\n"
     ]
    },
    {
     "ename": "ModuleNotFoundError",
     "evalue": "No module named 'yaml'",
     "output_type": "error",
     "traceback": [
      "\u001b[0;31m---------------------------------------------------------------------------\u001b[0m",
      "\u001b[0;31mModuleNotFoundError\u001b[0m                       Traceback (most recent call last)",
      "\u001b[0;32m<ipython-input-2-c8be372ec15b>\u001b[0m in \u001b[0;36m<module>\u001b[0;34m\u001b[0m\n\u001b[1;32m      1\u001b[0m \u001b[0;32mfrom\u001b[0m \u001b[0mlib_pianoroll\u001b[0m \u001b[0;32mimport\u001b[0m \u001b[0mget_pianoroll_encoder_decoder\u001b[0m\u001b[0;34m\u001b[0m\u001b[0;34m\u001b[0m\u001b[0m\n\u001b[0;32m----> 2\u001b[0;31m \u001b[0;32mfrom\u001b[0m \u001b[0mlib_hparams\u001b[0m \u001b[0;32mimport\u001b[0m \u001b[0mget_hparams_object\u001b[0m\u001b[0;34m\u001b[0m\u001b[0;34m\u001b[0m\u001b[0m\n\u001b[0m\u001b[1;32m      3\u001b[0m \u001b[0;32mimport\u001b[0m \u001b[0mpretty_midi\u001b[0m\u001b[0;34m\u001b[0m\u001b[0;34m\u001b[0m\u001b[0m\n\u001b[1;32m      4\u001b[0m \u001b[0;32mimport\u001b[0m \u001b[0mtensorflow\u001b[0m \u001b[0;32mas\u001b[0m \u001b[0mtf\u001b[0m\u001b[0;34m\u001b[0m\u001b[0;34m\u001b[0m\u001b[0m\n",
      "\u001b[0;32m~/unam/2021-I/aprendizaje_profundo/proyecto/coconet-reprise/PROP2/lib_hparams.py\u001b[0m in \u001b[0;36m<module>\u001b[0;34m\u001b[0m\n\u001b[1;32m     25\u001b[0m \u001b[0;32mimport\u001b[0m \u001b[0msix\u001b[0m\u001b[0;34m\u001b[0m\u001b[0;34m\u001b[0m\u001b[0m\n\u001b[1;32m     26\u001b[0m \u001b[0;32mimport\u001b[0m \u001b[0mtensorflow\u001b[0m \u001b[0;32mas\u001b[0m \u001b[0mtf\u001b[0m\u001b[0;34m\u001b[0m\u001b[0;34m\u001b[0m\u001b[0m\n\u001b[0;32m---> 27\u001b[0;31m \u001b[0;32mimport\u001b[0m \u001b[0myaml\u001b[0m\u001b[0;34m\u001b[0m\u001b[0;34m\u001b[0m\u001b[0m\n\u001b[0m\u001b[1;32m     28\u001b[0m \u001b[0;34m\u001b[0m\u001b[0m\n\u001b[1;32m     29\u001b[0m \u001b[0;32mdef\u001b[0m \u001b[0mget_hparams_object\u001b[0m\u001b[0;34m(\u001b[0m\u001b[0mhparams\u001b[0m\u001b[0;34m)\u001b[0m\u001b[0;34m:\u001b[0m\u001b[0;34m\u001b[0m\u001b[0;34m\u001b[0m\u001b[0m\n",
      "\u001b[0;31mModuleNotFoundError\u001b[0m: No module named 'yaml'"
     ]
    }
   ],
   "source": [
    "from lib_pianoroll import get_pianoroll_encoder_decoder\n",
    "from lib_hparams import get_hparams_object\n",
    "import pretty_midi\n",
    "import tensorflow as tf"
   ]
  },
  {
   "cell_type": "code",
   "execution_count": null,
   "id": "stone-northeast",
   "metadata": {},
   "outputs": [],
   "source": [
    "sorted_list_LOADED = {}\n",
    "song_filename_query = \"007S-END.mid\"\n",
    "with open('./PROP2_query_sorted_{0}.json'.format(song_filename_query.split(\".\")[0])) as json_file:\n",
    "    sorted_list_LOADED = json.load(json_file)"
   ]
  },
  {
   "cell_type": "code",
   "execution_count": null,
   "id": "precise-intranet",
   "metadata": {},
   "outputs": [],
   "source": [
    "## NES ##\n",
    "NOBUO_DATASET_PATH = \"/Users/diego/unam/2021-I/aprendizaje_profundo/proyecto/DATASETS/DATASUBSET/nobuo_midi/\""
   ]
  },
  {
   "cell_type": "code",
   "execution_count": null,
   "id": "confused-crowd",
   "metadata": {
    "scrolled": true
   },
   "outputs": [],
   "source": [
    "sorted_list_LOADED[\"data\"][600]"
   ]
  },
  {
   "cell_type": "code",
   "execution_count": null,
   "id": "cardiac-consumption",
   "metadata": {},
   "outputs": [],
   "source": [
    "# Define the hyperparameters\n",
    "hparams = {}\n",
    "hparams[\"shortest_duration\"] = 0.125\n",
    "hparams[\"min_pitch\"] = 36\n",
    "hparams[\"max_pitch\"] = 81\n",
    "hparams[\"separate_instruments\"] = True\n",
    "hparams[\"num_instruments\"] = 4\n",
    "hparams[\"quantization_level\"] = 0.125\n",
    "\n",
    "hparams_obj = get_hparams_object(hparams)\n",
    "\n",
    "encoder_decoder = get_pianoroll_encoder_decoder(hparams_obj)"
   ]
  },
  {
   "cell_type": "code",
   "execution_count": null,
   "id": "particular-reach",
   "metadata": {},
   "outputs": [],
   "source": [
    "# midi_melody_file = pretty_midi.PrettyMIDI(os.path.join(NES_DATASET_PATH, song_filename_query))\n",
    "midi_fullvoices_file = pretty_midi.PrettyMIDI(os.path.join(NOBUO_DATASET_PATH, song_filename_query))\n",
    "\n",
    "# pianoroll_melody_result = encoder_decoder.encode_midi_melody_to_pianoroll(midi_melody_file)\n",
    "pianoroll_fullvoices_result = encoder_decoder.encode_midi_to_pianoroll(midi_fullvoices_file, (1, 32, 46, 4))"
   ]
  },
  {
   "cell_type": "code",
   "execution_count": null,
   "id": "comparative-implementation",
   "metadata": {},
   "outputs": [],
   "source": [
    "pianoroll_fullvoices_result[0].shape"
   ]
  },
  {
   "cell_type": "code",
   "execution_count": null,
   "id": "actual-niger",
   "metadata": {},
   "outputs": [],
   "source": [
    "data_path = \"/Users/diego/unam/2021-I/aprendizaje_profundo/proyecto/coconet-reprise/data/Jsb16thSeparated.npz\"\n",
    "with tf.gfile.Open(data_path, \"rb\") as p:\n",
    "      loaded_bach_data = np.load(p, allow_pickle=True, encoding=\"latin1\")"
   ]
  },
  {
   "cell_type": "code",
   "execution_count": null,
   "id": "hungry-lawsuit",
   "metadata": {},
   "outputs": [],
   "source": [
    "loaded_bach_data[\"train\"][1].shape"
   ]
  },
  {
   "cell_type": "code",
   "execution_count": null,
   "id": "prescription-shoulder",
   "metadata": {},
   "outputs": [],
   "source": [
    "encoder_decoder.encode(loaded_bach_data[\"train\"][1]).shape"
   ]
  },
  {
   "cell_type": "code",
   "execution_count": null,
   "id": "interior-anderson",
   "metadata": {},
   "outputs": [],
   "source": [
    "# Traverse midi files\n",
    "nobuo_song_filenames = []\n",
    "for root, directories, files in os.walk(NOBUO_DATASET_PATH):\n",
    "    for file in files:\n",
    "        nobuo_song_filenames.append(file)\n",
    "print(nobuo_song_filenames[:3])\n",
    "print(len(nobuo_song_filenames))"
   ]
  },
  {
   "cell_type": "code",
   "execution_count": null,
   "id": "cheap-sleep",
   "metadata": {},
   "outputs": [],
   "source": [
    "%%time\n",
    "\n",
    "# Read Files \n",
    "MAX_LIM_NOBUO_SONGS = 2500\n",
    "len_nobuo_song_filenames = len(nobuo_song_filenames)\n",
    "nobuo_songs_with_error = []\n",
    "nobuo_songs_NO_error = []\n",
    "nobuo_songs_NO_error_data = []\n",
    "\n",
    "\n",
    "# We traverse the reduced table\n",
    "cnt = 1\n",
    "for song_data_test in sorted_list_LOADED[\"data\"]:\n",
    "    song_filename_test = song_data_test[0]\n",
    "    try:\n",
    "        \n",
    "        # midi_melody_file = pretty_midi.PrettyMIDI(os.path.join(NOBUO_DATASET_PATH, song_filename_query))\n",
    "        midi_fullvoices_file = pretty_midi.PrettyMIDI(os.path.join(NOBUO_DATASET_PATH, song_filename_test))\n",
    "\n",
    "        # pianoroll_melody_result = encoder_decoder.encode_midi_melody_to_pianoroll(midi_melody_file)\n",
    "        pianoroll_fullvoices_result = encoder_decoder.encode_midi_to_pianoroll(midi_fullvoices_file, (1, 32, 46, 4))\n",
    "        \n",
    "        nobuo_songs_NO_error.append(pianoroll_fullvoices_result[0])\n",
    "        nobuo_songs_NO_error_data.append(song_data_test)\n",
    "        \n",
    "    except:\n",
    "        print(\"[ERROR!]\")\n",
    "        nobuo_songs_with_error.append(song_filename_test)\n",
    "    finally:\n",
    "        print(\"{0}/{1} - {2}\".format(cnt, MAX_LIM_NOBUO_SONGS, song_filename_test))\n",
    "        cnt += 1\n",
    "        if (cnt == MAX_LIM_NOBUO_SONGS):\n",
    "            break"
   ]
  },
  {
   "cell_type": "code",
   "execution_count": null,
   "id": "raised-sector",
   "metadata": {},
   "outputs": [],
   "source": [
    "print(nes_songs_NO_error[550].shape)"
   ]
  },
  {
   "cell_type": "code",
   "execution_count": null,
   "id": "developed-afternoon",
   "metadata": {},
   "outputs": [],
   "source": [
    "data_nes_path = \"/Users/diego/unam/2021-I/aprendizaje_profundo/proyecto/coconet-reprise/data/NOBUO16thSeparated.npz\"\n",
    "np.savez(data_nes_path, train=nes_songs_NO_error[:350], test=nes_songs_NO_error[350:450], valid=nes_songs_NO_error[450:550])"
   ]
  },
  {
   "cell_type": "code",
   "execution_count": null,
   "id": "green-release",
   "metadata": {},
   "outputs": [],
   "source": [
    "with tf.gfile.Open(data_nes_path, \"rb\") as p:\n",
    "      loaded_nes_data = np.load(p, allow_pickle=True, encoding=\"latin1\")"
   ]
  },
  {
   "cell_type": "code",
   "execution_count": null,
   "id": "public-circumstances",
   "metadata": {},
   "outputs": [],
   "source": []
  }
 ],
 "metadata": {
  "kernelspec": {
   "display_name": "Python 3",
   "language": "python",
   "name": "python3"
  },
  "language_info": {
   "codemirror_mode": {
    "name": "ipython",
    "version": 3
   },
   "file_extension": ".py",
   "mimetype": "text/x-python",
   "name": "python",
   "nbconvert_exporter": "python",
   "pygments_lexer": "ipython3",
   "version": "3.6.12"
  }
 },
 "nbformat": 4,
 "nbformat_minor": 5
}
